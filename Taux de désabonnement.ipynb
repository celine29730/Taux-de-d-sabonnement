{
 "cells": [
  {
   "cell_type": "markdown",
   "metadata": {},
   "source": [
    "# Traitement des données"
   ]
  },
  {
   "cell_type": "markdown",
   "metadata": {},
   "source": [
    "## 1.Importation des bibliothèques"
   ]
  },
  {
   "cell_type": "code",
   "execution_count": 46,
   "metadata": {},
   "outputs": [],
   "source": [
    "import scipy as sp\n",
    "import pandas as pd\n",
    "import numpy as np\n",
    "import matplotlib.pyplot as plt\n",
    "from sklearn.impute import SimpleImputer\n",
    "from sklearn.preprocessing import LabelEncoder, OneHotEncoder\n",
    "from sklearn.model_selection import train_test_split\n",
    "from sklearn.model_selection import PredefinedSplit\n",
    "from sklearn import linear_model\n",
    "from sklearn.metrics import mean_squared_error\n",
    "from sklearn.model_selection import cross_val_score, train_test_split, GridSearchCV\n",
    "from sklearn.decomposition import PCA\n",
    "from sklearn.ensemble import RandomForestClassifier\n",
    "from tensorflow.keras import layers, models\n",
    "import tensorflow as tf\n",
    "import seaborn as sns"
   ]
  },
  {
   "cell_type": "markdown",
   "metadata": {},
   "source": [
    "## 2. Importation du fichier de données."
   ]
  },
  {
   "cell_type": "code",
   "execution_count": 2,
   "metadata": {},
   "outputs": [
    {
     "data": {
      "text/html": [
       "<div>\n",
       "<style scoped>\n",
       "    .dataframe tbody tr th:only-of-type {\n",
       "        vertical-align: middle;\n",
       "    }\n",
       "\n",
       "    .dataframe tbody tr th {\n",
       "        vertical-align: top;\n",
       "    }\n",
       "\n",
       "    .dataframe thead th {\n",
       "        text-align: right;\n",
       "    }\n",
       "</style>\n",
       "<table border=\"1\" class=\"dataframe\">\n",
       "  <thead>\n",
       "    <tr style=\"text-align: right;\">\n",
       "      <th></th>\n",
       "      <th>num_ligne</th>\n",
       "      <th>ID_Client</th>\n",
       "      <th>Nom</th>\n",
       "      <th>Score_Credit</th>\n",
       "      <th>Pays</th>\n",
       "      <th>Sex</th>\n",
       "      <th>Age</th>\n",
       "      <th>Tenure</th>\n",
       "      <th>Balance</th>\n",
       "      <th>Num_Produit</th>\n",
       "      <th>il_a_CrCard</th>\n",
       "      <th>Membre_actif</th>\n",
       "      <th>Salaire_estime</th>\n",
       "      <th>Exited</th>\n",
       "    </tr>\n",
       "  </thead>\n",
       "  <tbody>\n",
       "    <tr>\n",
       "      <th>0</th>\n",
       "      <td>1</td>\n",
       "      <td>15634602</td>\n",
       "      <td>Hargrave</td>\n",
       "      <td>619</td>\n",
       "      <td>France</td>\n",
       "      <td>Female</td>\n",
       "      <td>42</td>\n",
       "      <td>2</td>\n",
       "      <td>0.00</td>\n",
       "      <td>1</td>\n",
       "      <td>1</td>\n",
       "      <td>1</td>\n",
       "      <td>101348.88</td>\n",
       "      <td>1</td>\n",
       "    </tr>\n",
       "    <tr>\n",
       "      <th>1</th>\n",
       "      <td>2</td>\n",
       "      <td>15647311</td>\n",
       "      <td>Hill</td>\n",
       "      <td>608</td>\n",
       "      <td>Spain</td>\n",
       "      <td>Female</td>\n",
       "      <td>41</td>\n",
       "      <td>1</td>\n",
       "      <td>83807.86</td>\n",
       "      <td>1</td>\n",
       "      <td>0</td>\n",
       "      <td>1</td>\n",
       "      <td>112542.58</td>\n",
       "      <td>0</td>\n",
       "    </tr>\n",
       "    <tr>\n",
       "      <th>2</th>\n",
       "      <td>3</td>\n",
       "      <td>15619304</td>\n",
       "      <td>Onio</td>\n",
       "      <td>502</td>\n",
       "      <td>France</td>\n",
       "      <td>Female</td>\n",
       "      <td>42</td>\n",
       "      <td>8</td>\n",
       "      <td>159660.80</td>\n",
       "      <td>3</td>\n",
       "      <td>1</td>\n",
       "      <td>0</td>\n",
       "      <td>113931.57</td>\n",
       "      <td>1</td>\n",
       "    </tr>\n",
       "    <tr>\n",
       "      <th>3</th>\n",
       "      <td>4</td>\n",
       "      <td>15701354</td>\n",
       "      <td>Boni</td>\n",
       "      <td>699</td>\n",
       "      <td>France</td>\n",
       "      <td>Female</td>\n",
       "      <td>39</td>\n",
       "      <td>1</td>\n",
       "      <td>0.00</td>\n",
       "      <td>2</td>\n",
       "      <td>0</td>\n",
       "      <td>0</td>\n",
       "      <td>93826.63</td>\n",
       "      <td>0</td>\n",
       "    </tr>\n",
       "    <tr>\n",
       "      <th>4</th>\n",
       "      <td>5</td>\n",
       "      <td>15737888</td>\n",
       "      <td>Mitchell</td>\n",
       "      <td>850</td>\n",
       "      <td>Spain</td>\n",
       "      <td>Female</td>\n",
       "      <td>43</td>\n",
       "      <td>2</td>\n",
       "      <td>125510.82</td>\n",
       "      <td>1</td>\n",
       "      <td>1</td>\n",
       "      <td>1</td>\n",
       "      <td>79084.10</td>\n",
       "      <td>0</td>\n",
       "    </tr>\n",
       "  </tbody>\n",
       "</table>\n",
       "</div>"
      ],
      "text/plain": [
       "   num_ligne  ID_Client       Nom  Score_Credit    Pays     Sex  Age  Tenure  \\\n",
       "0          1   15634602  Hargrave           619  France  Female   42       2   \n",
       "1          2   15647311      Hill           608   Spain  Female   41       1   \n",
       "2          3   15619304      Onio           502  France  Female   42       8   \n",
       "3          4   15701354      Boni           699  France  Female   39       1   \n",
       "4          5   15737888  Mitchell           850   Spain  Female   43       2   \n",
       "\n",
       "     Balance  Num_Produit  il_a_CrCard  Membre_actif  Salaire_estime  Exited  \n",
       "0       0.00            1            1             1       101348.88       1  \n",
       "1   83807.86            1            0             1       112542.58       0  \n",
       "2  159660.80            3            1             0       113931.57       1  \n",
       "3       0.00            2            0             0        93826.63       0  \n",
       "4  125510.82            1            1             1        79084.10       0  "
      ]
     },
     "execution_count": 2,
     "metadata": {},
     "output_type": "execute_result"
    }
   ],
   "source": [
    "dataset = pd.read_csv('data.csv')\n",
    "dataset.head()"
   ]
  },
  {
   "cell_type": "markdown",
   "metadata": {},
   "source": [
    "Au vu des premiers éléments de notre fichier, nous constatons que certaines variables du jeu de données sont numériques\n",
    "et d'autres sont catégorielles."
   ]
  },
  {
   "cell_type": "code",
   "execution_count": 3,
   "metadata": {},
   "outputs": [
    {
     "name": "stdout",
     "output_type": "stream",
     "text": [
      "<class 'pandas.core.frame.DataFrame'>\n",
      "RangeIndex: 10000 entries, 0 to 9999\n",
      "Data columns (total 14 columns):\n",
      " #   Column          Non-Null Count  Dtype  \n",
      "---  ------          --------------  -----  \n",
      " 0   num_ligne       10000 non-null  int64  \n",
      " 1   ID_Client       10000 non-null  int64  \n",
      " 2   Nom             10000 non-null  object \n",
      " 3   Score_Credit    10000 non-null  int64  \n",
      " 4   Pays            10000 non-null  object \n",
      " 5   Sex             10000 non-null  object \n",
      " 6   Age             10000 non-null  int64  \n",
      " 7   Tenure          10000 non-null  int64  \n",
      " 8   Balance         10000 non-null  float64\n",
      " 9   Num_Produit     10000 non-null  int64  \n",
      " 10  il_a_CrCard     10000 non-null  int64  \n",
      " 11  Membre_actif    10000 non-null  int64  \n",
      " 12  Salaire_estime  10000 non-null  float64\n",
      " 13  Exited          10000 non-null  int64  \n",
      "dtypes: float64(2), int64(9), object(3)\n",
      "memory usage: 1.1+ MB\n",
      "None\n"
     ]
    }
   ],
   "source": [
    "print(dataset.info())\n",
    "\n"
   ]
  },
  {
   "cell_type": "code",
   "execution_count": 4,
   "metadata": {},
   "outputs": [
    {
     "data": {
      "text/plain": [
       "num_ligne         0\n",
       "ID_Client         0\n",
       "Nom               0\n",
       "Score_Credit      0\n",
       "Pays              0\n",
       "Sex               0\n",
       "Age               0\n",
       "Tenure            0\n",
       "Balance           0\n",
       "Num_Produit       0\n",
       "il_a_CrCard       0\n",
       "Membre_actif      0\n",
       "Salaire_estime    0\n",
       "Exited            0\n",
       "dtype: int64"
      ]
     },
     "execution_count": 4,
     "metadata": {},
     "output_type": "execute_result"
    }
   ],
   "source": [
    "dataset.isnull().sum()"
   ]
  },
  {
   "cell_type": "markdown",
   "metadata": {},
   "source": [
    "Notre fichier ne comporte pas de valeurs manquantes."
   ]
  },
  {
   "cell_type": "markdown",
   "metadata": {},
   "source": [
    "## 3. traitement des variables catégorielles"
   ]
  },
  {
   "cell_type": "code",
   "execution_count": 5,
   "metadata": {},
   "outputs": [
    {
     "name": "stdout",
     "output_type": "stream",
     "text": [
      "There are 3 categorical variables\n",
      "\n",
      "The categorical variables are : ['Nom', 'Pays', 'Sex']\n"
     ]
    }
   ],
   "source": [
    "categorical = [var for var in dataset.columns if dataset[var].dtype=='O']\n",
    "\n",
    "print('There are {} categorical variables\\n'.format(len(categorical)))\n",
    "\n",
    "print('The categorical variables are :', categorical)"
   ]
  },
  {
   "cell_type": "markdown",
   "metadata": {},
   "source": [
    "Notre jeu de données comporte 3 variables qualitatives qu'il va falloir encoder avant de procéder à\n",
    "toute modélisation."
   ]
  },
  {
   "cell_type": "markdown",
   "metadata": {},
   "source": [
    "### Encodage des variables catégorielles 'Nom', 'Pays', 'Sex'"
   ]
  },
  {
   "cell_type": "markdown",
   "metadata": {},
   "source": [
    "**Encodage de la variable 'Nom'**"
   ]
  },
  {
   "cell_type": "code",
   "execution_count": 6,
   "metadata": {},
   "outputs": [
    {
     "data": {
      "text/plain": [
       "0       0\n",
       "1       2\n",
       "2       0\n",
       "3       0\n",
       "4       2\n",
       "       ..\n",
       "9995    0\n",
       "9996    0\n",
       "9997    0\n",
       "9998    1\n",
       "9999    0\n",
       "Name: Pays, Length: 10000, dtype: int32"
      ]
     },
     "execution_count": 6,
     "metadata": {},
     "output_type": "execute_result"
    }
   ],
   "source": [
    "lab = LabelEncoder()\n",
    "dataset[\"Pays\"] = lab.fit_transform(dataset[\"Pays\"])\n",
    "dataset[\"Pays\"]\n"
   ]
  },
  {
   "cell_type": "markdown",
   "metadata": {},
   "source": [
    "**Encodage de la variable 'Nom'**"
   ]
  },
  {
   "cell_type": "code",
   "execution_count": 7,
   "metadata": {},
   "outputs": [
    {
     "data": {
      "text/plain": [
       "0    1115\n",
       "1    1177\n",
       "2    2040\n",
       "3     289\n",
       "4    1822\n",
       "Name: Nom, dtype: int32"
      ]
     },
     "execution_count": 7,
     "metadata": {},
     "output_type": "execute_result"
    }
   ],
   "source": [
    "lab = LabelEncoder()\n",
    "dataset[\"Nom\"] = lab.fit_transform(dataset[\"Nom\"])\n",
    "dataset[\"Nom\"].head()"
   ]
  },
  {
   "cell_type": "markdown",
   "metadata": {},
   "source": [
    "**Encodage de la variable 'Sex'**"
   ]
  },
  {
   "cell_type": "code",
   "execution_count": 8,
   "metadata": {},
   "outputs": [
    {
     "data": {
      "text/plain": [
       "0       0\n",
       "1       0\n",
       "2       0\n",
       "3       0\n",
       "4       0\n",
       "       ..\n",
       "9995    1\n",
       "9996    1\n",
       "9997    0\n",
       "9998    1\n",
       "9999    0\n",
       "Name: Sex, Length: 10000, dtype: int32"
      ]
     },
     "execution_count": 8,
     "metadata": {},
     "output_type": "execute_result"
    }
   ],
   "source": [
    "lab = LabelEncoder()\n",
    "dataset[\"Sex\"] = lab.fit_transform(dataset[\"Sex\"])\n",
    "dataset[\"Sex\"]\n"
   ]
  },
  {
   "cell_type": "code",
   "execution_count": 9,
   "metadata": {},
   "outputs": [
    {
     "data": {
      "text/html": [
       "<div>\n",
       "<style scoped>\n",
       "    .dataframe tbody tr th:only-of-type {\n",
       "        vertical-align: middle;\n",
       "    }\n",
       "\n",
       "    .dataframe tbody tr th {\n",
       "        vertical-align: top;\n",
       "    }\n",
       "\n",
       "    .dataframe thead th {\n",
       "        text-align: right;\n",
       "    }\n",
       "</style>\n",
       "<table border=\"1\" class=\"dataframe\">\n",
       "  <thead>\n",
       "    <tr style=\"text-align: right;\">\n",
       "      <th></th>\n",
       "      <th>num_ligne</th>\n",
       "      <th>ID_Client</th>\n",
       "      <th>Nom</th>\n",
       "      <th>Score_Credit</th>\n",
       "      <th>Pays</th>\n",
       "      <th>Sex</th>\n",
       "      <th>Age</th>\n",
       "      <th>Tenure</th>\n",
       "      <th>Balance</th>\n",
       "      <th>Num_Produit</th>\n",
       "      <th>il_a_CrCard</th>\n",
       "      <th>Membre_actif</th>\n",
       "      <th>Salaire_estime</th>\n",
       "      <th>Exited</th>\n",
       "    </tr>\n",
       "  </thead>\n",
       "  <tbody>\n",
       "    <tr>\n",
       "      <th>0</th>\n",
       "      <td>1</td>\n",
       "      <td>15634602</td>\n",
       "      <td>1115</td>\n",
       "      <td>619</td>\n",
       "      <td>0</td>\n",
       "      <td>0</td>\n",
       "      <td>42</td>\n",
       "      <td>2</td>\n",
       "      <td>0.00</td>\n",
       "      <td>1</td>\n",
       "      <td>1</td>\n",
       "      <td>1</td>\n",
       "      <td>101348.88</td>\n",
       "      <td>1</td>\n",
       "    </tr>\n",
       "    <tr>\n",
       "      <th>1</th>\n",
       "      <td>2</td>\n",
       "      <td>15647311</td>\n",
       "      <td>1177</td>\n",
       "      <td>608</td>\n",
       "      <td>2</td>\n",
       "      <td>0</td>\n",
       "      <td>41</td>\n",
       "      <td>1</td>\n",
       "      <td>83807.86</td>\n",
       "      <td>1</td>\n",
       "      <td>0</td>\n",
       "      <td>1</td>\n",
       "      <td>112542.58</td>\n",
       "      <td>0</td>\n",
       "    </tr>\n",
       "    <tr>\n",
       "      <th>2</th>\n",
       "      <td>3</td>\n",
       "      <td>15619304</td>\n",
       "      <td>2040</td>\n",
       "      <td>502</td>\n",
       "      <td>0</td>\n",
       "      <td>0</td>\n",
       "      <td>42</td>\n",
       "      <td>8</td>\n",
       "      <td>159660.80</td>\n",
       "      <td>3</td>\n",
       "      <td>1</td>\n",
       "      <td>0</td>\n",
       "      <td>113931.57</td>\n",
       "      <td>1</td>\n",
       "    </tr>\n",
       "    <tr>\n",
       "      <th>3</th>\n",
       "      <td>4</td>\n",
       "      <td>15701354</td>\n",
       "      <td>289</td>\n",
       "      <td>699</td>\n",
       "      <td>0</td>\n",
       "      <td>0</td>\n",
       "      <td>39</td>\n",
       "      <td>1</td>\n",
       "      <td>0.00</td>\n",
       "      <td>2</td>\n",
       "      <td>0</td>\n",
       "      <td>0</td>\n",
       "      <td>93826.63</td>\n",
       "      <td>0</td>\n",
       "    </tr>\n",
       "    <tr>\n",
       "      <th>4</th>\n",
       "      <td>5</td>\n",
       "      <td>15737888</td>\n",
       "      <td>1822</td>\n",
       "      <td>850</td>\n",
       "      <td>2</td>\n",
       "      <td>0</td>\n",
       "      <td>43</td>\n",
       "      <td>2</td>\n",
       "      <td>125510.82</td>\n",
       "      <td>1</td>\n",
       "      <td>1</td>\n",
       "      <td>1</td>\n",
       "      <td>79084.10</td>\n",
       "      <td>0</td>\n",
       "    </tr>\n",
       "  </tbody>\n",
       "</table>\n",
       "</div>"
      ],
      "text/plain": [
       "   num_ligne  ID_Client   Nom  Score_Credit  Pays  Sex  Age  Tenure  \\\n",
       "0          1   15634602  1115           619     0    0   42       2   \n",
       "1          2   15647311  1177           608     2    0   41       1   \n",
       "2          3   15619304  2040           502     0    0   42       8   \n",
       "3          4   15701354   289           699     0    0   39       1   \n",
       "4          5   15737888  1822           850     2    0   43       2   \n",
       "\n",
       "     Balance  Num_Produit  il_a_CrCard  Membre_actif  Salaire_estime  Exited  \n",
       "0       0.00            1            1             1       101348.88       1  \n",
       "1   83807.86            1            0             1       112542.58       0  \n",
       "2  159660.80            3            1             0       113931.57       1  \n",
       "3       0.00            2            0             0        93826.63       0  \n",
       "4  125510.82            1            1             1        79084.10       0  "
      ]
     },
     "execution_count": 9,
     "metadata": {},
     "output_type": "execute_result"
    }
   ],
   "source": [
    "\n",
    "dataset.head()\n"
   ]
  },
  {
   "cell_type": "code",
   "execution_count": 10,
   "metadata": {},
   "outputs": [
    {
     "name": "stdout",
     "output_type": "stream",
     "text": [
      "<class 'pandas.core.frame.DataFrame'>\n",
      "RangeIndex: 10000 entries, 0 to 9999\n",
      "Data columns (total 14 columns):\n",
      " #   Column          Non-Null Count  Dtype  \n",
      "---  ------          --------------  -----  \n",
      " 0   num_ligne       10000 non-null  int64  \n",
      " 1   ID_Client       10000 non-null  int64  \n",
      " 2   Nom             10000 non-null  int32  \n",
      " 3   Score_Credit    10000 non-null  int64  \n",
      " 4   Pays            10000 non-null  int32  \n",
      " 5   Sex             10000 non-null  int32  \n",
      " 6   Age             10000 non-null  int64  \n",
      " 7   Tenure          10000 non-null  int64  \n",
      " 8   Balance         10000 non-null  float64\n",
      " 9   Num_Produit     10000 non-null  int64  \n",
      " 10  il_a_CrCard     10000 non-null  int64  \n",
      " 11  Membre_actif    10000 non-null  int64  \n",
      " 12  Salaire_estime  10000 non-null  float64\n",
      " 13  Exited          10000 non-null  int64  \n",
      "dtypes: float64(2), int32(3), int64(9)\n",
      "memory usage: 976.7 KB\n"
     ]
    }
   ],
   "source": [
    "dataset.info()\n"
   ]
  },
  {
   "cell_type": "markdown",
   "metadata": {},
   "source": [
    "## 4. Définition de nos variables: Notre variable target (Y) est la variable 'Exited' en fonction des autres variables.On va récuprer X et Y à partir du jeu de données"
   ]
  },
  {
   "cell_type": "code",
   "execution_count": 11,
   "metadata": {},
   "outputs": [
    {
     "name": "stdout",
     "output_type": "stream",
     "text": [
      "(10000, 13)\n",
      "(10000, 1)\n"
     ]
    }
   ],
   "source": [
    "X = dataset.drop(['Exited'], axis=1)\n",
    "\n",
    "y = dataset['Exited']\n",
    "y = dataset['Exited'].values.reshape(-1,1)\n",
    "\n",
    "\n",
    "print(X.shape)\n",
    "print(y.shape)\n"
   ]
  },
  {
   "cell_type": "markdown",
   "metadata": {},
   "source": [
    "## 5.Fractionnement le jeu de données en jeu d'entraînement et jeu de test (20% pour le test)"
   ]
  },
  {
   "cell_type": "code",
   "execution_count": 12,
   "metadata": {},
   "outputs": [
    {
     "name": "stdout",
     "output_type": "stream",
     "text": [
      "(8000, 13)\n",
      "(2000, 13)\n"
     ]
    }
   ],
   "source": [
    "from sklearn.model_selection import train_test_split\n",
    "\n",
    "X_train, X_test, y_train, y_test = train_test_split(X, y, test_size = 0.2, random_state = 0)\n",
    "print(X_train.shape)\n",
    "print(X_test.shape)"
   ]
  },
  {
   "cell_type": "markdown",
   "metadata": {},
   "source": [
    "Notre jeu de données comporte une grande disparité de valeurs. On va donc les standardiser.\n",
    "La standardisation, qui signifie \"centrer réduire\", désigne la conversion des données vers un format standard \n",
    "commun et normalisé.\n",
    "\n",
    "L’objectif de la standardisation est de rendre les données lisibles par l’ordinateur ou de les structurer de \n",
    "sorte qu’un collaborateur puisse les lire et les comprendre. Une fois acquises, les différentes données doivent \n",
    "être standardisées afin d’être exploitées et étudiées uniformément.\n",
    "\n"
   ]
  },
  {
   "cell_type": "markdown",
   "metadata": {},
   "source": [
    "## 6.Standariser le jeu d'entrainement et de test à l'aide de StandardScaler"
   ]
  },
  {
   "cell_type": "code",
   "execution_count": 13,
   "metadata": {},
   "outputs": [],
   "source": [
    "cols = X_train.columns"
   ]
  },
  {
   "cell_type": "code",
   "execution_count": 14,
   "metadata": {},
   "outputs": [
    {
     "data": {
      "text/plain": [
       "array([[ 1.52455906, -1.05516175,  1.3988819 , ...,  0.64259497,\n",
       "         0.9687384 ,  1.61085707],\n",
       "       [-1.41233952, -0.51193473, -0.77961265, ...,  0.64259497,\n",
       "        -1.03227043,  0.49587037],\n",
       "       [-0.89381929, -0.80237087,  0.41413152, ...,  0.64259497,\n",
       "         0.9687384 , -0.42478674],\n",
       "       ...,\n",
       "       [ 1.57813948,  1.13257291, -1.19760022, ...,  0.64259497,\n",
       "        -1.03227043,  0.71888467],\n",
       "       [-0.77559668,  1.34311575, -1.34047168, ...,  0.64259497,\n",
       "         0.9687384 , -1.54507805],\n",
       "       [ 0.58983992, -1.56467681,  0.51331501, ...,  0.64259497,\n",
       "        -1.03227043,  1.61255917]])"
      ]
     },
     "execution_count": 14,
     "metadata": {},
     "output_type": "execute_result"
    }
   ],
   "source": [
    "from sklearn.preprocessing import StandardScaler\n",
    "\n",
    "scaler = StandardScaler()\n",
    "\n",
    "X_train = scaler.fit_transform(X_train)\n",
    "\n",
    "X_test = scaler.transform(X_test)\n",
    "\n",
    "X_test"
   ]
  },
  {
   "cell_type": "code",
   "execution_count": 15,
   "metadata": {},
   "outputs": [
    {
     "data": {
      "text/html": [
       "<div>\n",
       "<style scoped>\n",
       "    .dataframe tbody tr th:only-of-type {\n",
       "        vertical-align: middle;\n",
       "    }\n",
       "\n",
       "    .dataframe tbody tr th {\n",
       "        vertical-align: top;\n",
       "    }\n",
       "\n",
       "    .dataframe thead tr th {\n",
       "        text-align: left;\n",
       "    }\n",
       "</style>\n",
       "<table border=\"1\" class=\"dataframe\">\n",
       "  <thead>\n",
       "    <tr>\n",
       "      <th></th>\n",
       "      <th>num_ligne</th>\n",
       "      <th>ID_Client</th>\n",
       "      <th>Nom</th>\n",
       "      <th>Score_Credit</th>\n",
       "      <th>Pays</th>\n",
       "      <th>Sex</th>\n",
       "      <th>Age</th>\n",
       "      <th>Tenure</th>\n",
       "      <th>Balance</th>\n",
       "      <th>Num_Produit</th>\n",
       "      <th>il_a_CrCard</th>\n",
       "      <th>Membre_actif</th>\n",
       "      <th>Salaire_estime</th>\n",
       "    </tr>\n",
       "  </thead>\n",
       "  <tbody>\n",
       "    <tr>\n",
       "      <th>0</th>\n",
       "      <td>0.831470</td>\n",
       "      <td>-0.202167</td>\n",
       "      <td>0.368082</td>\n",
       "      <td>0.169582</td>\n",
       "      <td>1.519198</td>\n",
       "      <td>-1.091687</td>\n",
       "      <td>-0.464608</td>\n",
       "      <td>0.006661</td>\n",
       "      <td>-1.215717</td>\n",
       "      <td>0.809503</td>\n",
       "      <td>0.642595</td>\n",
       "      <td>-1.032270</td>\n",
       "      <td>1.106432</td>\n",
       "    </tr>\n",
       "    <tr>\n",
       "      <th>1</th>\n",
       "      <td>1.483423</td>\n",
       "      <td>0.807044</td>\n",
       "      <td>-1.289699</td>\n",
       "      <td>-2.304559</td>\n",
       "      <td>0.313126</td>\n",
       "      <td>0.916013</td>\n",
       "      <td>0.301026</td>\n",
       "      <td>-1.377440</td>\n",
       "      <td>-0.006312</td>\n",
       "      <td>-0.921591</td>\n",
       "      <td>0.642595</td>\n",
       "      <td>0.968738</td>\n",
       "      <td>-0.748664</td>\n",
       "    </tr>\n",
       "    <tr>\n",
       "      <th>2</th>\n",
       "      <td>-0.687448</td>\n",
       "      <td>-1.519081</td>\n",
       "      <td>0.392878</td>\n",
       "      <td>-1.191196</td>\n",
       "      <td>-0.892945</td>\n",
       "      <td>-1.091687</td>\n",
       "      <td>-0.943129</td>\n",
       "      <td>-1.031415</td>\n",
       "      <td>0.579935</td>\n",
       "      <td>-0.921591</td>\n",
       "      <td>0.642595</td>\n",
       "      <td>-1.032270</td>\n",
       "      <td>1.485335</td>\n",
       "    </tr>\n",
       "    <tr>\n",
       "      <th>3</th>\n",
       "      <td>0.114875</td>\n",
       "      <td>1.241115</td>\n",
       "      <td>-0.741828</td>\n",
       "      <td>0.035566</td>\n",
       "      <td>1.519198</td>\n",
       "      <td>0.916013</td>\n",
       "      <td>0.109617</td>\n",
       "      <td>0.006661</td>\n",
       "      <td>0.473128</td>\n",
       "      <td>-0.921591</td>\n",
       "      <td>0.642595</td>\n",
       "      <td>-1.032270</td>\n",
       "      <td>1.276528</td>\n",
       "    </tr>\n",
       "    <tr>\n",
       "      <th>4</th>\n",
       "      <td>-1.599698</td>\n",
       "      <td>-1.110869</td>\n",
       "      <td>1.117862</td>\n",
       "      <td>2.056114</td>\n",
       "      <td>1.519198</td>\n",
       "      <td>-1.091687</td>\n",
       "      <td>1.736588</td>\n",
       "      <td>1.044737</td>\n",
       "      <td>0.810193</td>\n",
       "      <td>0.809503</td>\n",
       "      <td>0.642595</td>\n",
       "      <td>0.968738</td>\n",
       "      <td>0.558378</td>\n",
       "    </tr>\n",
       "    <tr>\n",
       "      <th>...</th>\n",
       "      <td>...</td>\n",
       "      <td>...</td>\n",
       "      <td>...</td>\n",
       "      <td>...</td>\n",
       "      <td>...</td>\n",
       "      <td>...</td>\n",
       "      <td>...</td>\n",
       "      <td>...</td>\n",
       "      <td>...</td>\n",
       "      <td>...</td>\n",
       "      <td>...</td>\n",
       "      <td>...</td>\n",
       "      <td>...</td>\n",
       "    </tr>\n",
       "    <tr>\n",
       "      <th>7995</th>\n",
       "      <td>1.466139</td>\n",
       "      <td>-1.485104</td>\n",
       "      <td>1.385894</td>\n",
       "      <td>-0.582970</td>\n",
       "      <td>0.313126</td>\n",
       "      <td>-1.091687</td>\n",
       "      <td>-0.656016</td>\n",
       "      <td>-0.339364</td>\n",
       "      <td>0.703104</td>\n",
       "      <td>0.809503</td>\n",
       "      <td>0.642595</td>\n",
       "      <td>0.968738</td>\n",
       "      <td>1.091330</td>\n",
       "    </tr>\n",
       "    <tr>\n",
       "      <th>7996</th>\n",
       "      <td>-0.043100</td>\n",
       "      <td>-0.617785</td>\n",
       "      <td>1.531127</td>\n",
       "      <td>1.478815</td>\n",
       "      <td>1.519198</td>\n",
       "      <td>-1.091687</td>\n",
       "      <td>-1.613058</td>\n",
       "      <td>-0.339364</td>\n",
       "      <td>0.613060</td>\n",
       "      <td>-0.921591</td>\n",
       "      <td>0.642595</td>\n",
       "      <td>0.968738</td>\n",
       "      <td>0.131760</td>\n",
       "    </tr>\n",
       "    <tr>\n",
       "      <th>7997</th>\n",
       "      <td>-0.594460</td>\n",
       "      <td>-1.632338</td>\n",
       "      <td>-0.359264</td>\n",
       "      <td>0.901515</td>\n",
       "      <td>-0.892945</td>\n",
       "      <td>0.916013</td>\n",
       "      <td>-0.368904</td>\n",
       "      <td>0.006661</td>\n",
       "      <td>1.361474</td>\n",
       "      <td>0.809503</td>\n",
       "      <td>0.642595</td>\n",
       "      <td>-1.032270</td>\n",
       "      <td>1.412320</td>\n",
       "    </tr>\n",
       "    <tr>\n",
       "      <th>7998</th>\n",
       "      <td>1.680461</td>\n",
       "      <td>-0.381732</td>\n",
       "      <td>0.727032</td>\n",
       "      <td>-0.624205</td>\n",
       "      <td>1.519198</td>\n",
       "      <td>-1.091687</td>\n",
       "      <td>-0.081791</td>\n",
       "      <td>1.390762</td>\n",
       "      <td>-1.215717</td>\n",
       "      <td>0.809503</td>\n",
       "      <td>0.642595</td>\n",
       "      <td>0.968738</td>\n",
       "      <td>0.844321</td>\n",
       "    </tr>\n",
       "    <tr>\n",
       "      <th>7999</th>\n",
       "      <td>-0.778362</td>\n",
       "      <td>-1.375084</td>\n",
       "      <td>1.383532</td>\n",
       "      <td>-0.284011</td>\n",
       "      <td>0.313126</td>\n",
       "      <td>-1.091687</td>\n",
       "      <td>0.875251</td>\n",
       "      <td>-1.377440</td>\n",
       "      <td>0.511364</td>\n",
       "      <td>-0.921591</td>\n",
       "      <td>0.642595</td>\n",
       "      <td>-1.032270</td>\n",
       "      <td>0.324725</td>\n",
       "    </tr>\n",
       "  </tbody>\n",
       "</table>\n",
       "<p>8000 rows × 13 columns</p>\n",
       "</div>"
      ],
      "text/plain": [
       "     num_ligne ID_Client       Nom Score_Credit      Pays       Sex       Age  \\\n",
       "0     0.831470 -0.202167  0.368082     0.169582  1.519198 -1.091687 -0.464608   \n",
       "1     1.483423  0.807044 -1.289699    -2.304559  0.313126  0.916013  0.301026   \n",
       "2    -0.687448 -1.519081  0.392878    -1.191196 -0.892945 -1.091687 -0.943129   \n",
       "3     0.114875  1.241115 -0.741828     0.035566  1.519198  0.916013  0.109617   \n",
       "4    -1.599698 -1.110869  1.117862     2.056114  1.519198 -1.091687  1.736588   \n",
       "...        ...       ...       ...          ...       ...       ...       ...   \n",
       "7995  1.466139 -1.485104  1.385894    -0.582970  0.313126 -1.091687 -0.656016   \n",
       "7996 -0.043100 -0.617785  1.531127     1.478815  1.519198 -1.091687 -1.613058   \n",
       "7997 -0.594460 -1.632338 -0.359264     0.901515 -0.892945  0.916013 -0.368904   \n",
       "7998  1.680461 -0.381732  0.727032    -0.624205  1.519198 -1.091687 -0.081791   \n",
       "7999 -0.778362 -1.375084  1.383532    -0.284011  0.313126 -1.091687  0.875251   \n",
       "\n",
       "        Tenure   Balance Num_Produit il_a_CrCard Membre_actif Salaire_estime  \n",
       "0     0.006661 -1.215717    0.809503    0.642595    -1.032270       1.106432  \n",
       "1    -1.377440 -0.006312   -0.921591    0.642595     0.968738      -0.748664  \n",
       "2    -1.031415  0.579935   -0.921591    0.642595    -1.032270       1.485335  \n",
       "3     0.006661  0.473128   -0.921591    0.642595    -1.032270       1.276528  \n",
       "4     1.044737  0.810193    0.809503    0.642595     0.968738       0.558378  \n",
       "...        ...       ...         ...         ...          ...            ...  \n",
       "7995 -0.339364  0.703104    0.809503    0.642595     0.968738       1.091330  \n",
       "7996 -0.339364  0.613060   -0.921591    0.642595     0.968738       0.131760  \n",
       "7997  0.006661  1.361474    0.809503    0.642595    -1.032270       1.412320  \n",
       "7998  1.390762 -1.215717    0.809503    0.642595     0.968738       0.844321  \n",
       "7999 -1.377440  0.511364   -0.921591    0.642595    -1.032270       0.324725  \n",
       "\n",
       "[8000 rows x 13 columns]"
      ]
     },
     "execution_count": 15,
     "metadata": {},
     "output_type": "execute_result"
    }
   ],
   "source": [
    "X_train = pd.DataFrame(X_train, columns=[cols])\n",
    "\n",
    "X_test = pd.DataFrame(X_test, columns=[cols])\n",
    "\n",
    "X_train"
   ]
  },
  {
   "cell_type": "markdown",
   "metadata": {},
   "source": [
    "Nous n'avons pas de corrélation significatives entre nos variables."
   ]
  },
  {
   "cell_type": "markdown",
   "metadata": {},
   "source": [
    "## 7.Création du modèle de régression logistique et entraînement sur les données d'entraînement"
   ]
  },
  {
   "cell_type": "markdown",
   "metadata": {},
   "source": [
    "L'objectif de notre étude est de savoir si les clients souhaitant se désabonner sont bien classés ou non. \n",
    "On va commencer notre modélisation par une régression logistique trés utilisé pour les modèles de classification."
   ]
  },
  {
   "cell_type": "code",
   "execution_count": 16,
   "metadata": {},
   "outputs": [
    {
     "name": "stdout",
     "output_type": "stream",
     "text": [
      "(8000, 1)\n"
     ]
    },
    {
     "name": "stderr",
     "output_type": "stream",
     "text": [
      "C:\\Users\\utilisateur\\anaconda3\\lib\\site-packages\\sklearn\\utils\\validation.py:73: DataConversionWarning: A column-vector y was passed when a 1d array was expected. Please change the shape of y to (n_samples, ), for example using ravel().\n",
      "  return f(**kwargs)\n"
     ]
    },
    {
     "data": {
      "text/plain": [
       "LogisticRegression(random_state=0, solver='liblinear')"
      ]
     },
     "execution_count": 16,
     "metadata": {},
     "output_type": "execute_result"
    }
   ],
   "source": [
    "# train a logistic regression model on the training set\n",
    "from sklearn.linear_model import LogisticRegression\n",
    "\n",
    "\n",
    "# instantiate the model\n",
    "logreg = LogisticRegression(solver='liblinear', random_state=0)\n",
    "\n",
    "print(y_train.shape)\n",
    "# fit the model\n",
    "logreg.fit(X_train, y_train)"
   ]
  },
  {
   "cell_type": "markdown",
   "metadata": {},
   "source": [
    "## Prediction des résultats du modèle sur l'ensemble du test"
   ]
  },
  {
   "cell_type": "code",
   "execution_count": 17,
   "metadata": {},
   "outputs": [
    {
     "data": {
      "text/plain": [
       "array([0, 0, 0, ..., 0, 0, 0], dtype=int64)"
      ]
     },
     "execution_count": 17,
     "metadata": {},
     "output_type": "execute_result"
    }
   ],
   "source": [
    "y_pred_test = logreg.predict(X_test)\n",
    "\n",
    "y_pred_test"
   ]
  },
  {
   "cell_type": "markdown",
   "metadata": {},
   "source": [
    "## Comparaison de l'accuracy du modèle sur l'ensemble d'apprentissage et l'ensemble de test"
   ]
  },
  {
   "cell_type": "code",
   "execution_count": 18,
   "metadata": {},
   "outputs": [
    {
     "name": "stdout",
     "output_type": "stream",
     "text": [
      "Training set score: 0.8083\n",
      "Test set score: 0.8075\n"
     ]
    }
   ],
   "source": [
    "# print the scores on training and test set\n",
    "\n",
    "print('Training set score: {:.4f}'.format(logreg.score(X_train, y_train)))\n",
    "\n",
    "print('Test set score: {:.4f}'.format(logreg.score(X_test, y_test)))"
   ]
  },
  {
   "cell_type": "markdown",
   "metadata": {},
   "source": [
    "L'accuracy entre nos données d'apprentissage et nos données de jeu de test sont quasi identiques, ce qui \n",
    "signifie que notre modèle a été bien entrainé."
   ]
  },
  {
   "cell_type": "markdown",
   "metadata": {},
   "source": [
    "## Affichage de la matrice de confusion, TP, TN, FP, FN sur le jeu du test en utilisant la fonction confusion_matrix"
   ]
  },
  {
   "cell_type": "code",
   "execution_count": 19,
   "metadata": {},
   "outputs": [
    {
     "name": "stdout",
     "output_type": "stream",
     "text": [
      "Confusion matrix\n",
      "\n",
      " [[1543   52]\n",
      " [ 333   72]]\n",
      "\n",
      "True Positives(TP) =  1543\n",
      "\n",
      "True Negatives(TN) =  72\n",
      "\n",
      "False Positives(FP) =  52\n",
      "\n",
      "False Negatives(FN) =  333\n"
     ]
    }
   ],
   "source": [
    "# Print the Confusion Matrix and slice it into four pieces\n",
    "\n",
    "from sklearn.metrics import confusion_matrix\n",
    "\n",
    "cm = confusion_matrix(y_test, y_pred_test)\n",
    "\n",
    "print('Confusion matrix\\n\\n', cm)\n",
    "\n",
    "print('\\nTrue Positives(TP) = ', cm[0,0])\n",
    "\n",
    "print('\\nTrue Negatives(TN) = ', cm[1,1])\n",
    "\n",
    "print('\\nFalse Positives(FP) = ', cm[0,1])\n",
    "\n",
    "print('\\nFalse Negatives(FN) = ', cm[1,0])"
   ]
  },
  {
   "cell_type": "markdown",
   "metadata": {},
   "source": [
    "## On Calcule les métriques de classification (accuracy, classification error, precision, recall, specificity) en utilisant seulement les valeurs de TP, TN, FP, FN."
   ]
  },
  {
   "cell_type": "code",
   "execution_count": 20,
   "metadata": {},
   "outputs": [
    {
     "name": "stdout",
     "output_type": "stream",
     "text": [
      "Classification accuracy : 0.8075\n",
      "Classification error : 0.1925\n",
      "Precision : 0.9674\n",
      "Recall or Sensitivity : 0.8225\n",
      "Specificity : 0.5806\n"
     ]
    }
   ],
   "source": [
    "TP = cm[0,0]\n",
    "TN = cm[1,1]\n",
    "FP = cm[0,1]\n",
    "FN = cm[1,0]\n",
    "\n",
    "# print classification accuracy\n",
    "\n",
    "classification_accuracy = (TP + TN) / float(TP + TN + FP + FN)\n",
    "\n",
    "print('Classification accuracy : {0:0.4f}'.format(classification_accuracy))\n",
    "\n",
    "\n",
    "\n",
    "# print classification error\n",
    "\n",
    "classification_error = (FP + FN) / float(TP + TN + FP + FN)\n",
    "\n",
    "print('Classification error : {0:0.4f}'.format(classification_error))\n",
    "\n",
    "\n",
    "\n",
    "# print precision score\n",
    "\n",
    "precision = TP / float(TP + FP)\n",
    "\n",
    "\n",
    "print('Precision : {0:0.4f}'.format(precision))\n",
    "\n",
    "# print recall score\n",
    "\n",
    "recall = TP / float(TP + FN)\n",
    "\n",
    "print('Recall or Sensitivity : {0:0.4f}'.format(recall))\n",
    "\n",
    "# print Specificity score\n",
    "\n",
    "specificity = TN / (TN + FP)\n",
    "\n",
    "print('Specificity : {0:0.4f}'.format(specificity))"
   ]
  },
  {
   "cell_type": "markdown",
   "metadata": {},
   "source": [
    "Nous allons procéder à une réduction de la dimensionnalité de notre jeu de données pour savoir si l'on peut\n",
    "obtenir de meilleurs résultats. On vaeffectuer une modélisation de régression logistique avec PCA. "
   ]
  },
  {
   "cell_type": "markdown",
   "metadata": {},
   "source": [
    "# 8. Création du modèle de régression logistique avec PCA"
   ]
  },
  {
   "cell_type": "code",
   "execution_count": 21,
   "metadata": {},
   "outputs": [
    {
     "name": "stderr",
     "output_type": "stream",
     "text": [
      "C:\\Users\\utilisateur\\anaconda3\\lib\\site-packages\\sklearn\\utils\\validation.py:73: DataConversionWarning: A column-vector y was passed when a 1d array was expected. Please change the shape of y to (n_samples, ), for example using ravel().\n",
      "  return f(**kwargs)\n"
     ]
    },
    {
     "data": {
      "text/plain": [
       "LogisticRegression(random_state=0, solver='liblinear')"
      ]
     },
     "execution_count": 21,
     "metadata": {},
     "output_type": "execute_result"
    }
   ],
   "source": [
    "# Modèle avec une régression logistique avec PCA\n",
    "pca_log = PCA(n_components=2)\n",
    "X_train_pca = pca_log.fit_transform(X_train)\n",
    "\n",
    "logreg.fit(X_train_pca, y_train)"
   ]
  },
  {
   "cell_type": "code",
   "execution_count": 22,
   "metadata": {},
   "outputs": [
    {
     "name": "stdout",
     "output_type": "stream",
     "text": [
      "Training set score: 0.7960\n",
      "Test set score: 0.7975\n"
     ]
    }
   ],
   "source": [
    "X_test_pca = pca_log.transform(X_test)\n",
    "\n",
    "# print the scores on training and test set\n",
    "\n",
    "print('Training set score: {:.4f}'.format(logreg.score(X_train_pca, y_train)))\n",
    "\n",
    "print('Test set score: {:.4f}'.format(logreg.score(X_test_pca, y_test)))\n",
    "\n",
    "\n"
   ]
  },
  {
   "cell_type": "markdown",
   "metadata": {},
   "source": [
    "On obtient des résultats un peu moins bons que la modélisation sans PCA. Cela peut être dû à une perte\n",
    "d'informations liée à la réduction de la dimensionnalité. "
   ]
  },
  {
   "cell_type": "markdown",
   "metadata": {},
   "source": [
    "Peut-on obtenir de meilleurs résultats en utilisant la méthode de forêt \n",
    "d'arbres décisionnels (méthode Random Forest).C’est une technique facile à interpréter, stable, qui présente\n",
    "en général de bonnes accuracies et qui peut être utilisée pour des tâches de régression ou de classification. \n",
    "Elle couvre donc une grande partie des problèmes de Machine Learning.\n",
    "\n"
   ]
  },
  {
   "cell_type": "markdown",
   "metadata": {},
   "source": [
    "# 9. Création du modèle de forêt d'arbres décisionnels (Méthode Random Forest)"
   ]
  },
  {
   "cell_type": "code",
   "execution_count": 27,
   "metadata": {},
   "outputs": [
    {
     "name": "stderr",
     "output_type": "stream",
     "text": [
      "<ipython-input-27-284f48e5137a>:3: DataConversionWarning: A column-vector y was passed when a 1d array was expected. Please change the shape of y to (n_samples,), for example using ravel().\n",
      "  forest_reg.fit(X_train, y_train)\n"
     ]
    },
    {
     "data": {
      "text/plain": [
       "RandomForestClassifier(random_state=42)"
      ]
     },
     "execution_count": 27,
     "metadata": {},
     "output_type": "execute_result"
    }
   ],
   "source": [
    "# Modèle Random Tree Forest\n",
    "forest_reg = RandomForestClassifier(random_state=42)\n",
    "forest_reg.fit(X_train, y_train)"
   ]
  },
  {
   "cell_type": "code",
   "execution_count": 28,
   "metadata": {},
   "outputs": [
    {
     "name": "stdout",
     "output_type": "stream",
     "text": [
      "Training set score: 1.0000\n",
      "Test set score: 0.8645\n"
     ]
    }
   ],
   "source": [
    "# print the scores on training and test set\n",
    "\n",
    "print('Training set score: {:.4f}'.format(forest_reg.score(X_train, y_train)))\n",
    "\n",
    "print('Test set score: {:.4f}'.format(forest_reg.score(X_test, y_test)))"
   ]
  },
  {
   "cell_type": "markdown",
   "metadata": {},
   "source": [
    "On obtient une meilleure performance du modèle avec la methode Random Forest. Mais le résultat parfait du score \n",
    "pour les données d'apprentissage peut révéler un problème de surapprentissage.\n",
    "On va utiliser la méthode du RandomForest avec Pca pour voir quels sont les résultats."
   ]
  },
  {
   "cell_type": "markdown",
   "metadata": {},
   "source": [
    "# 10. Création du modèle de forêt d'arbres décisionnels (Méthode Random Forest) avec PCA (réduction de dimensionnalité)"
   ]
  },
  {
   "cell_type": "code",
   "execution_count": 31,
   "metadata": {},
   "outputs": [
    {
     "name": "stderr",
     "output_type": "stream",
     "text": [
      "<ipython-input-31-fdc61aa54bd0>:5: DataConversionWarning: A column-vector y was passed when a 1d array was expected. Please change the shape of y to (n_samples,), for example using ravel().\n",
      "  forest_reg.fit(X_train_pca, y_train)\n"
     ]
    },
    {
     "data": {
      "text/plain": [
       "RandomForestClassifier(random_state=42)"
      ]
     },
     "execution_count": 31,
     "metadata": {},
     "output_type": "execute_result"
    }
   ],
   "source": [
    "# Modèle Random Tree Forest avec PCA\n",
    "pca = PCA(n_components=2)\n",
    "X_train_pca = pca.fit_transform(X_train)\n",
    "\n",
    "forest_reg.fit(X_train_pca, y_train)"
   ]
  },
  {
   "cell_type": "code",
   "execution_count": 32,
   "metadata": {},
   "outputs": [
    {
     "name": "stdout",
     "output_type": "stream",
     "text": [
      "Training set score: 0.9998\n",
      "Test set score: 0.7685\n"
     ]
    }
   ],
   "source": [
    "X_test_pca = pca.transform(X_test)\n",
    "\n",
    "# print the scores on training and test set\n",
    "\n",
    "print('Training set score: {:.4f}'.format(forest_reg.score(X_train_pca, y_train)))\n",
    "\n",
    "print('Test set score: {:.4f}'.format(forest_reg.score(X_test_pca, y_test)))\n"
   ]
  },
  {
   "cell_type": "markdown",
   "metadata": {},
   "source": [
    "# 11. Modélisation par réseaux de neurones."
   ]
  },
  {
   "cell_type": "code",
   "execution_count": 37,
   "metadata": {},
   "outputs": [],
   "source": [
    "\n",
    "#Construction du modèle\n",
    "model = models.Sequential()\n",
    "# Définition de l'entrée et de la couche cachée\n",
    "model.add(layers.Dense(13, kernel_initializer = \"uniform\", activation='relu', input_shape=(13,)))\n",
    "model.add(layers.Dense(26, kernel_initializer = \"uniform\", activation='relu'))\n",
    "# Construction de la couche de sortie\n",
    "model.add(layers.Dense(1, kernel_initializer = \"uniform\",  activation='sigmoid'))"
   ]
  },
  {
   "cell_type": "code",
   "execution_count": 38,
   "metadata": {},
   "outputs": [
    {
     "name": "stdout",
     "output_type": "stream",
     "text": [
      "Model: \"sequential_1\"\n",
      "_________________________________________________________________\n",
      "Layer (type)                 Output Shape              Param #   \n",
      "=================================================================\n",
      "dense_3 (Dense)              (None, 13)                182       \n",
      "_________________________________________________________________\n",
      "dense_4 (Dense)              (None, 26)                364       \n",
      "_________________________________________________________________\n",
      "dense_5 (Dense)              (None, 1)                 27        \n",
      "=================================================================\n",
      "Total params: 573\n",
      "Trainable params: 573\n",
      "Non-trainable params: 0\n",
      "_________________________________________________________________\n"
     ]
    }
   ],
   "source": [
    "\n",
    "model.summary()"
   ]
  },
  {
   "cell_type": "markdown",
   "metadata": {},
   "source": [
    "Après avoir construit le réseau neuronal, on doit compiler le modèle en ajoutant quelques paramètres qui \n",
    "indiqueront au réseau neuronal comment démarrer le processus d'entraînement. Tout d'abord, on ajoute \n",
    "l'optimiseur qui créera ou, en d'autres termes, mettra à jour le paramètre du réseau neuronal pour l'adapter \n",
    "à nos données.\n",
    "\n",
    "Puis on indique la fonction de perte qui vous indiquera les performances de votre modèle.\n",
    "\n",
    "Enfin, les métriques qui donnent des tests indicatifs de la qualité du modèle.\n"
   ]
  },
  {
   "cell_type": "code",
   "execution_count": 39,
   "metadata": {},
   "outputs": [],
   "source": [
    "#compilation du modèle\n",
    "model.compile(optimizer='adam', loss=\"binary_crossentropy\", metrics=['accuracy'])"
   ]
  },
  {
   "cell_type": "markdown",
   "metadata": {},
   "source": [
    "On va entraîner notre modèle, on utilise la fonction fit avec les données d'apprentissage et combien d'époques \n",
    "doivent être exécutées ou (commbien de fois on parcours le jeu de données), combien de fois doivent faire une \n",
    "estimation."
   ]
  },
  {
   "cell_type": "code",
   "execution_count": 40,
   "metadata": {},
   "outputs": [
    {
     "name": "stdout",
     "output_type": "stream",
     "text": [
      "Epoch 1/10\n",
      "800/800 [==============================] - 3s 3ms/step - loss: 0.5276 - accuracy: 0.7906 - val_loss: 0.4325 - val_accuracy: 0.7975\n",
      "Epoch 2/10\n",
      "800/800 [==============================] - 2s 2ms/step - loss: 0.4214 - accuracy: 0.8090 - val_loss: 0.4186 - val_accuracy: 0.8390\n",
      "Epoch 3/10\n",
      "800/800 [==============================] - 2s 2ms/step - loss: 0.4206 - accuracy: 0.8313 - val_loss: 0.4045 - val_accuracy: 0.8425\n",
      "Epoch 4/10\n",
      "800/800 [==============================] - 2s 2ms/step - loss: 0.4064 - accuracy: 0.8360 - val_loss: 0.4044 - val_accuracy: 0.8395\n",
      "Epoch 5/10\n",
      "800/800 [==============================] - 2s 2ms/step - loss: 0.4036 - accuracy: 0.8351 - val_loss: 0.3989 - val_accuracy: 0.8415\n",
      "Epoch 6/10\n",
      "800/800 [==============================] - 2s 2ms/step - loss: 0.3917 - accuracy: 0.8442 - val_loss: 0.3989 - val_accuracy: 0.8385\n",
      "Epoch 7/10\n",
      "800/800 [==============================] - 2s 2ms/step - loss: 0.4003 - accuracy: 0.8364 - val_loss: 0.3978 - val_accuracy: 0.8380\n",
      "Epoch 8/10\n",
      "800/800 [==============================] - 2s 2ms/step - loss: 0.3886 - accuracy: 0.8390 - val_loss: 0.3953 - val_accuracy: 0.8380\n",
      "Epoch 9/10\n",
      "800/800 [==============================] - 2s 2ms/step - loss: 0.3910 - accuracy: 0.8355 - val_loss: 0.3965 - val_accuracy: 0.8420\n",
      "Epoch 10/10\n",
      "800/800 [==============================] - 2s 2ms/step - loss: 0.3902 - accuracy: 0.8400 - val_loss: 0.3956 - val_accuracy: 0.8400\n"
     ]
    }
   ],
   "source": [
    "history = model.fit(X_train, y_train, batch_size=10, epochs=10, validation_data=(X_test, y_test))"
   ]
  },
  {
   "cell_type": "code",
   "execution_count": 56,
   "metadata": {},
   "outputs": [
    {
     "name": "stdout",
     "output_type": "stream",
     "text": [
      "63/63 [==============================] - 0s 2ms/step - loss: 0.3956 - accuracy: 0.8400\n",
      "\n",
      "Test accuracy: 0.8399999737739563\n"
     ]
    }
   ],
   "source": [
    "# Evaluation des performances du modèle\n",
    "test_loss, test_acc = model.evaluate(X_test, y_test)\n",
    "# on imprime la performance du modèle\n",
    "print('\\nTest accuracy:', test_acc)"
   ]
  },
  {
   "cell_type": "markdown",
   "metadata": {},
   "source": [
    "**prédictions sur le jeu de test**"
   ]
  },
  {
   "cell_type": "code",
   "execution_count": 57,
   "metadata": {},
   "outputs": [],
   "source": [
    "pred = model.predict(X_test)\n",
    "pred = (pred > 0.50)"
   ]
  },
  {
   "cell_type": "code",
   "execution_count": 58,
   "metadata": {},
   "outputs": [],
   "source": [
    "conf = confusion_matrix(y_test, pred)"
   ]
  },
  {
   "cell_type": "code",
   "execution_count": 63,
   "metadata": {},
   "outputs": [
    {
     "data": {
      "text/plain": [
       "<matplotlib.axes._subplots.AxesSubplot at 0x2a27fe778e0>"
      ]
     },
     "execution_count": 63,
     "metadata": {},
     "output_type": "execute_result"
    },
    {
     "data": {
      "image/png": "[encoded data removed]",
      "text/plain": [
       "<Figure size 432x288 with 2 Axes>"
      ]
     },
     "metadata": {
      "needs_background": "light"
     },
     "output_type": "display_data"
    }
   ],
   "source": [
    "sns.heatmap(conf, cmap='mako', annot=True, fmt='d')"
   ]
  },
  {
   "cell_type": "markdown",
   "metadata": {},
   "source": [
    "Le modèle de réseaux de neurones classe plutôt bien les abonnés ne souhaitant pas de désinscrire (1549) contre\n",
    "131 pour ceux souhaitant se désinscrire."
   ]
  },
  {
   "cell_type": "markdown",
   "metadata": {},
   "source": [
    "### Conclusion:\n",
    "Au vue des différentes modélisations, il semblerait que le modèle de forêt d'arbres décisionnels\n",
    "sans Pca soit le plus performant avec un score de 0.86 pour le jeu de test. Que ce soit pour la \n",
    "régression logistique ou la méthode Random Forest, le Pca nous fournit de moins bons résultats, ce qui\n",
    "peut être lié à une perte d'informations due à la réduction de dimensionnalité.\n",
    "\n",
    "Le réseau de neurones nous donne des résultats aléatoires. Nous obtenons une erreur du modèle de neurones à 0.39\n",
    "contre 0.19 pour le modèle de régression logistique."
   ]
  },
  {
   "cell_type": "code",
   "execution_count": null,
   "metadata": {},
   "outputs": [],
   "source": []
  }
 ],
 "metadata": {
  "kernelspec": {
   "display_name": "Python 3",
   "language": "python",
   "name": "python3"
  },
  "language_info": {
   "codemirror_mode": {
    "name": "ipython",
    "version": 3
   },
   "file_extension": ".py",
   "mimetype": "text/x-python",
   "name": "python",
   "nbconvert_exporter": "python",
   "pygments_lexer": "ipython3",
   "version": "3.8.3"
  }
 },
 "nbformat": 4,
 "nbformat_minor": 4
}
